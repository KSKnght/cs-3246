{
 "cells": [
  {
   "cell_type": "markdown",
   "metadata": {},
   "source": [
    "Foncardaz, Karl Friedrich E."
   ]
  },
  {
   "cell_type": "markdown",
   "metadata": {
    "id": "A4GF3lV6jm5x"
   },
   "source": [
    "# **Activity 1: NumPy Exercise**\n",
    "\n",
    "**Objective:**\n",
    "\n",
    "Practice NumPy's array manipulation, indexing, and mathematical functions by solving problems related to basic data analysis and matrix operations."
   ]
  },
  {
   "cell_type": "markdown",
   "metadata": {
    "id": "Pq3P9XLbjVU4"
   },
   "source": [
    "## **Part 1**"
   ]
  },
  {
   "cell_type": "markdown",
   "metadata": {
    "id": "VkOXGCuiLGR9"
   },
   "source": [
    "#### 1. Import the numpy package under the name `np`\n"
   ]
  },
  {
   "cell_type": "code",
   "execution_count": null,
   "metadata": {
    "id": "DhbEnfx8O314"
   },
   "outputs": [],
   "source": [
    "import numpy as np"
   ]
  },
  {
   "cell_type": "markdown",
   "metadata": {
    "id": "ktNjFh4pO-5C"
   },
   "source": [
    "#### 2. Print the numpy version"
   ]
  },
  {
   "cell_type": "code",
   "execution_count": null,
   "metadata": {
    "id": "7tZfwQhhPQoI"
   },
   "outputs": [],
   "source": [
    "import numpy as np\n",
    "\n",
    "print(np.__version__)"
   ]
  },
  {
   "cell_type": "markdown",
   "metadata": {
    "id": "D4V99t3oQRAB"
   },
   "source": [
    "#### 3. Create a null array of size 5"
   ]
  },
  {
   "cell_type": "code",
   "execution_count": 4,
   "metadata": {
    "id": "XnL-QmA_QYa2"
   },
   "outputs": [
    {
     "name": "stdout",
     "output_type": "stream",
     "text": [
      "[0. 0. 0. 0. 0.]\n"
     ]
    }
   ],
   "source": [
    "import numpy as np\n",
    "\n",
    "arr = np.zeros(5)\n",
    "print(arr)"
   ]
  },
  {
   "cell_type": "markdown",
   "metadata": {
    "id": "x9tAEjPlQcnh"
   },
   "source": [
    "#### 4. Create a null array of size 15 but the seventh value which is 1"
   ]
  },
  {
   "cell_type": "code",
   "execution_count": 5,
   "metadata": {
    "id": "VgwfRV6OQlGk"
   },
   "outputs": [
    {
     "name": "stdout",
     "output_type": "stream",
     "text": [
      "[0. 0. 0. 0. 0. 0. 1. 0. 0. 0. 0. 0. 0. 0. 0.]\n"
     ]
    }
   ],
   "source": [
    "import numpy as np\n",
    "\n",
    "arr = np.zeros(15)\n",
    "arr[6] = 1\n",
    "print(arr)"
   ]
  },
  {
   "cell_type": "markdown",
   "metadata": {
    "id": "a5_Af-hYTi-X"
   },
   "source": [
    "#### 5. Create a 4x4 matrix with values ranging from 0 to 11"
   ]
  },
  {
   "cell_type": "code",
   "execution_count": 11,
   "metadata": {
    "id": "HSlLeK5YQ5Lo"
   },
   "outputs": [
    {
     "name": "stdout",
     "output_type": "stream",
     "text": [
      "[[ 0  1  2  3]\n",
      " [ 4  5  6  7]\n",
      " [ 8  9 10 11]\n",
      " [12 13 14 15]]\n"
     ]
    }
   ],
   "source": [
    "import numpy as np\n",
    "\n",
    "arr = np.array([[0,1,2,3],[4,5,6,7],[8,9,10,11],[12,13,14,15]])\n",
    "\n",
    "print(arr)"
   ]
  },
  {
   "cell_type": "markdown",
   "metadata": {
    "id": "nLJvzwjfVXOL"
   },
   "source": [
    "#### 6. Find indices of non-zero elements from [1,2,4,0,4,0]"
   ]
  },
  {
   "cell_type": "code",
   "execution_count": 13,
   "metadata": {
    "id": "o8vyHuWfVbXu"
   },
   "outputs": [
    {
     "name": "stdout",
     "output_type": "stream",
     "text": [
      "(array([0, 1, 2, 4]),)\n"
     ]
    }
   ],
   "source": [
    "import numpy as np\n",
    "\n",
    "arr = np.array([1,2,4,0,4,0])\n",
    "\n",
    "print(np.where(arr != 0))"
   ]
  },
  {
   "cell_type": "markdown",
   "metadata": {
    "id": "z6OrgicLV6C-"
   },
   "source": [
    "#### 7. Create a 4x4x4 array with random values"
   ]
  },
  {
   "cell_type": "code",
   "execution_count": 17,
   "metadata": {
    "collapsed": true,
    "id": "MhcNEK55V1UF",
    "jupyter": {
     "outputs_hidden": true
    }
   },
   "outputs": [
    {
     "name": "stdout",
     "output_type": "stream",
     "text": [
      "[[[ 2 17 60 58]\n",
      "  [28 12 15 25]\n",
      "  [27 21 26 34]\n",
      "  [ 2 23 13 12]]\n",
      "\n",
      " [[ 9 24 62 57]\n",
      "  [46 62 17 40]\n",
      "  [35  4  5 27]\n",
      "  [18 40 57 53]]\n",
      "\n",
      " [[51 33 46 60]\n",
      "  [ 0 12 57  3]\n",
      "  [62 39 51 41]\n",
      "  [14 44 41 41]]\n",
      "\n",
      " [[29 21 28  1]\n",
      "  [62  1 59 32]\n",
      "  [57 51 14 54]\n",
      "  [10 55 32 34]]]\n"
     ]
    }
   ],
   "source": [
    "import numpy as np \n",
    "\n",
    "arr = np.random.randint(100, size=(4,4,4))\n",
    "\n",
    "print(arr)"
   ]
  },
  {
   "cell_type": "markdown",
   "metadata": {
    "id": "aLqeru_NWso3"
   },
   "source": [
    "#### 8. Create a 15x15 array with random assigned values and find the min and max values"
   ]
  },
  {
   "cell_type": "code",
   "execution_count": 24,
   "metadata": {
    "collapsed": true,
    "id": "eSpxGZ2GWqDo",
    "jupyter": {
     "outputs_hidden": true
    }
   },
   "outputs": [
    {
     "name": "stdout",
     "output_type": "stream",
     "text": [
      "[[50 28 17 10 77 83 51 92 85 36 62 52 64 27  8]\n",
      " [53 86 58 15 76 23 58 33 27 27 24 41 52 15 26]\n",
      " [44 25 34 50  2 64  3 57 99 57 31 56 45 77 12]\n",
      " [88 63 18 36 85 23 13 77 47 35 90 92 67 53 78]\n",
      " [79 57 11 40 45 45 23 18 54 58 97  4 44 68 26]\n",
      " [73 79 25 27 97 65 78 81 45 16 94 62 87 15 72]\n",
      " [13 76 16 80 30 60 16 91 90 72 88 20 76 29 52]\n",
      " [50 23 55 73 35 41 12 54 27 32 91 60 32 39  5]\n",
      " [87 60 25 29 63 95  6 95 59 79 37  3 74  6 30]\n",
      " [51 90 58 78  9 72 30 99 81 67 84 80 67 99 15]\n",
      " [77 83 86 92 82 95 34 44 20 97 49 38 71 10 58]\n",
      " [64 79  7 78 97 83 15 18 73 54 69 42 92 93 38]\n",
      " [80 91 59 90 95 91 27 46 66 95 84 86 20  8 22]\n",
      " [73  5 61 25  9 65 56 10 64 63 31 22 77 79 84]\n",
      " [25 38 58  0  4 27 31 82 19 58 44 48 75 67 62]]\n",
      "0\n",
      "99\n"
     ]
    }
   ],
   "source": [
    "import numpy as np \n",
    "\n",
    "arr = np.random.randint(100, size=(15,15))\n",
    "\n",
    "print(arr)\n",
    "print(np.min(arr))\n",
    "print(np.max(arr))"
   ]
  },
  {
   "cell_type": "code",
   "execution_count": null,
   "metadata": {
    "id": "cUFXQqkHW6qB"
   },
   "outputs": [],
   "source": []
  },
  {
   "cell_type": "markdown",
   "metadata": {
    "id": "jIAQPvclbEVr"
   },
   "source": [
    "#### 9. Create a random array of size 25 and find the mean value"
   ]
  },
  {
   "cell_type": "code",
   "execution_count": 25,
   "metadata": {
    "id": "q91Y8GMebPeY"
   },
   "outputs": [
    {
     "name": "stdout",
     "output_type": "stream",
     "text": [
      "52.84\n"
     ]
    }
   ],
   "source": [
    "import numpy as np \n",
    "\n",
    "arr = np.random.randint(100, size=(25))\n",
    "\n",
    "print(np.mean(arr))"
   ]
  },
  {
   "cell_type": "markdown",
   "metadata": {
    "id": "1z3JFRgAkmNP"
   },
   "source": [
    "#### 10.  Show your codes\n",
    "\n",
    "Given:\n",
    "\n",
    "array 1 = ([2, 4, 9])\\\n",
    "array 2 = ([1, 14, 6])\n",
    "\n",
    "  *Note: Recreate the arrays*"
   ]
  },
  {
   "cell_type": "code",
   "execution_count": 32,
   "metadata": {
    "id": "jiC8LUdknLPN"
   },
   "outputs": [
    {
     "name": "stdout",
     "output_type": "stream",
     "text": [
      "[2 4 9]\n",
      "[ 1 14  6]\n"
     ]
    }
   ],
   "source": [
    "import numpy as np \n",
    "\n",
    "arr_1 = np.array([2,4,9])\n",
    "arr_2 = np.array([1,14,6])\n",
    "\n",
    "print(arr_1)\n",
    "print(arr_2)"
   ]
  },
  {
   "cell_type": "markdown",
   "metadata": {
    "id": "QFPFjpSSmecQ"
   },
   "source": [
    "10.1 What is the result of *a + b*?"
   ]
  },
  {
   "cell_type": "code",
   "execution_count": 33,
   "metadata": {
    "id": "Yqcpj3ccm5La"
   },
   "outputs": [
    {
     "name": "stdout",
     "output_type": "stream",
     "text": [
      "[ 3 18 15]\n"
     ]
    }
   ],
   "source": [
    "import numpy as np \n",
    "\n",
    "arr_1 = np.array([2,4,9])\n",
    "arr_2 = np.array([1,14,6])\n",
    "\n",
    "print(np.add(arr_1, arr_2))"
   ]
  },
  {
   "cell_type": "markdown",
   "metadata": {
    "id": "t0__U1Bum7k6"
   },
   "source": [
    "10.2 What is the result of *a - b*?"
   ]
  },
  {
   "cell_type": "code",
   "execution_count": 35,
   "metadata": {
    "id": "SmuAcAubnCNO"
   },
   "outputs": [
    {
     "name": "stdout",
     "output_type": "stream",
     "text": [
      "[  1 -10   3]\n"
     ]
    }
   ],
   "source": [
    "import numpy as np \n",
    "\n",
    "arr_1 = np.array([2,4,9])\n",
    "arr_2 = np.array([1,14,6])\n",
    "\n",
    "print(np.subtract(arr_1, arr_2))"
   ]
  },
  {
   "cell_type": "markdown",
   "metadata": {
    "id": "5dbiR_Urm5fJ"
   },
   "source": [
    "10.3 What is the result of *a × b*?"
   ]
  },
  {
   "cell_type": "code",
   "execution_count": 36,
   "metadata": {
    "id": "Zpnb_vGqksSF"
   },
   "outputs": [
    {
     "name": "stdout",
     "output_type": "stream",
     "text": [
      "[ 2 56 54]\n"
     ]
    }
   ],
   "source": [
    "import numpy as np \n",
    "\n",
    "arr_1 = np.array([2,4,9])\n",
    "arr_2 = np.array([1,14,6])\n",
    "\n",
    "print(np.multiply(arr_1, arr_2))"
   ]
  },
  {
   "cell_type": "markdown",
   "metadata": {
    "id": "jHTozQuZp2WM"
   },
   "source": [
    "10.4 What is the result of *a ÷ b*?"
   ]
  },
  {
   "cell_type": "code",
   "execution_count": 37,
   "metadata": {
    "id": "9Jx0GzTIqArP"
   },
   "outputs": [
    {
     "name": "stdout",
     "output_type": "stream",
     "text": [
      "[2.         0.28571429 1.5       ]\n"
     ]
    }
   ],
   "source": [
    "import numpy as np \n",
    "\n",
    "arr_1 = np.array([2,4,9])\n",
    "arr_2 = np.array([1,14,6])\n",
    "\n",
    "print(np.divide(arr_1, arr_2))"
   ]
  },
  {
   "cell_type": "markdown",
   "metadata": {
    "id": "I3FhrIORjZsA"
   },
   "source": [
    "## **Part 2**"
   ]
  },
  {
   "cell_type": "markdown",
   "metadata": {
    "id": "JDa9MTb2wXPi"
   },
   "source": [
    "##### NumPy Array Indexing"
   ]
  },
  {
   "cell_type": "markdown",
   "metadata": {
    "id": "M4rwQgDqrLoo"
   },
   "source": [
    "\n",
    "Given the following matrix:\n",
    "\n",
    "        [[10, 20, 30],\n",
    "        [40, 50, 60],\n",
    "        [70, 80, 90]]\n",
    "\n",
    " 1. Recreate the matrix"
   ]
  },
  {
   "cell_type": "code",
   "execution_count": 38,
   "metadata": {
    "id": "Ra4n8YBQr2RZ"
   },
   "outputs": [
    {
     "name": "stdout",
     "output_type": "stream",
     "text": [
      "[[10 20 30]\n",
      " [40 50 60]\n",
      " [70 80 90]]\n"
     ]
    }
   ],
   "source": [
    "import numpy as np\n",
    "\n",
    "arr = np.array([[10,20,30], [40,50,60], [70,80,90]])\n",
    "\n",
    "print(arr)"
   ]
  },
  {
   "cell_type": "markdown",
   "metadata": {
    "id": "br-ZYkK3uo24"
   },
   "source": [
    "1. Write code to extract the element 50."
   ]
  },
  {
   "cell_type": "code",
   "execution_count": 44,
   "metadata": {
    "id": "kI7jzTiYrTep"
   },
   "outputs": [
    {
     "name": "stdout",
     "output_type": "stream",
     "text": [
      "50\n"
     ]
    }
   ],
   "source": [
    "import numpy as np\n",
    "\n",
    "arr = np.array([[10,20,30], [40,50,60], [70,80,90]])\n",
    "\n",
    "print(arr[1,1])"
   ]
  },
  {
   "cell_type": "markdown",
   "metadata": {
    "id": "H1OsD655sEX6"
   },
   "source": [
    "2. **Extract a Row**\\\n",
    "\\\n",
    "Using the same array arr, extract the second row as a separate NumPy array."
   ]
  },
  {
   "cell_type": "code",
   "execution_count": 42,
   "metadata": {
    "id": "jf-K5No5sRob"
   },
   "outputs": [
    {
     "name": "stdout",
     "output_type": "stream",
     "text": [
      "[40 50 60]\n"
     ]
    }
   ],
   "source": [
    "import numpy as np\n",
    "\n",
    "arr = np.array([[10,20,30], [40,50,60], [70,80,90]])\n",
    "\n",
    "extracted_arr = arr[1]\n",
    "\n",
    "print(extracted_arr)"
   ]
  },
  {
   "cell_type": "markdown",
   "metadata": {
    "id": "qk1-NvWjsVC3"
   },
   "source": [
    "3.  **Extract a Column**\\\n",
    "\\\n",
    "Using arr, extract the third column as a separate NumPy array."
   ]
  },
  {
   "cell_type": "code",
   "execution_count": 53,
   "metadata": {
    "id": "d1s1c5q9sgID"
   },
   "outputs": [
    {
     "name": "stdout",
     "output_type": "stream",
     "text": [
      "[30 60 90]\n"
     ]
    }
   ],
   "source": [
    "import numpy as np\n",
    "\n",
    "arr = np.array([[10,20,30], [40,50,60], [70,80,90]])\n",
    "\n",
    "extracted_arr = arr[:, 2]\n",
    "\n",
    "print(extracted_arr)"
   ]
  },
  {
   "cell_type": "markdown",
   "metadata": {
    "id": "DIe9pf8nskUZ"
   },
   "source": [
    "4. **Extract a Submatrix**\\\n",
    "\\\n",
    "Extract the following 2×2 submatrix from arr:\\\n",
    "\n",
    "  [[50 60]\\\n",
    " [80 90]]"
   ]
  },
  {
   "cell_type": "code",
   "execution_count": 54,
   "metadata": {
    "id": "37dC5sA3ssZV"
   },
   "outputs": [
    {
     "name": "stdout",
     "output_type": "stream",
     "text": [
      "[[50 60]\n",
      " [80 90]]\n"
     ]
    }
   ],
   "source": [
    "import numpy as np\n",
    "\n",
    "arr = np.array([[10,20,30], [40,50,60], [70,80,90]])\n",
    "\n",
    "extracted_arr = arr[1:3, 1:3]\n",
    "\n",
    "print(extracted_arr)"
   ]
  },
  {
   "cell_type": "markdown",
   "metadata": {
    "id": "ABs-32sKwOcg"
   },
   "source": [
    "##### NumPy Array Slicing"
   ]
  },
  {
   "cell_type": "markdown",
   "metadata": {
    "id": "T7kcCxr9uGAO"
   },
   "source": [
    "Given the following matrix:\n",
    "\n",
    "                [ 1,  2,  3,  4],\n",
    "                [ 5,  6,  7,  8],\n",
    "                [ 9, 10, 11, 12]]\n",
    "\n",
    "1. Recreate the matrix"
   ]
  },
  {
   "cell_type": "code",
   "execution_count": 55,
   "metadata": {
    "id": "CvzBw2FpwasA"
   },
   "outputs": [
    {
     "name": "stdout",
     "output_type": "stream",
     "text": [
      "[[ 1  2  3  4]\n",
      " [ 5  6  7  8]\n",
      " [ 9 10 11 12]]\n"
     ]
    }
   ],
   "source": [
    "import numpy as np\n",
    "\n",
    "arr = np.array([[1,2,3,4], [5,6,7,8], [9,10,11,12]])\n",
    "\n",
    "\n",
    "print(arr)"
   ]
  },
  {
   "cell_type": "markdown",
   "metadata": {
    "id": "YaaIsRTVwlof"
   },
   "source": [
    "2. Write code to extract the following 2×2 subarray:\n",
    "\n",
    "        [[ 6  7]\n",
    "        [10 11]]"
   ]
  },
  {
   "cell_type": "code",
   "execution_count": 56,
   "metadata": {
    "id": "PpyFr5wYwuLN"
   },
   "outputs": [
    {
     "name": "stdout",
     "output_type": "stream",
     "text": [
      "[[ 6  7]\n",
      " [10 11]]\n"
     ]
    }
   ],
   "source": [
    "import numpy as np\n",
    "\n",
    "arr = np.array([[1,2,3,4], [5,6,7,8], [9,10,11,12]])\n",
    "\n",
    "extracted_arr = arr[1:3, 1:3]\n",
    "\n",
    "print(extracted_arr)"
   ]
  },
  {
   "cell_type": "markdown",
   "metadata": {
    "id": "poinisgbw02m"
   },
   "source": [
    "3. Using the same matrix, write code to extract every other element from the first row (expected output: [1, 3])."
   ]
  },
  {
   "cell_type": "code",
   "execution_count": 58,
   "metadata": {
    "id": "9UyP9S3Ww-wf"
   },
   "outputs": [
    {
     "name": "stdout",
     "output_type": "stream",
     "text": [
      "[1 3]\n"
     ]
    }
   ],
   "source": [
    "import numpy as np\n",
    "\n",
    "arr = np.array([[1,2,3,4], [5,6,7,8], [9,10,11,12]])\n",
    "\n",
    "extracted_arr = arr[0, ::2]\n",
    "\n",
    "print(extracted_arr)"
   ]
  },
  {
   "cell_type": "markdown",
   "metadata": {
    "id": "0it7IxPqxTq3"
   },
   "source": [
    "4. Write code to reverse the order of rows in the matrix"
   ]
  },
  {
   "cell_type": "code",
   "execution_count": 59,
   "metadata": {
    "id": "-tqPKhrmxWP7"
   },
   "outputs": [
    {
     "name": "stdout",
     "output_type": "stream",
     "text": [
      "[[ 9 10 11 12]\n",
      " [ 5  6  7  8]\n",
      " [ 1  2  3  4]]\n"
     ]
    }
   ],
   "source": [
    "import numpy as np\n",
    "\n",
    "arr = np.array([[1,2,3,4], [5,6,7,8], [9,10,11,12]])\n",
    "\n",
    "extracted_arr = arr[::-1]\n",
    "\n",
    "print(extracted_arr)"
   ]
  },
  {
   "cell_type": "markdown",
   "metadata": {
    "id": "C8EWGps7xfYl"
   },
   "source": [
    "5. Write code to extract the last two columns of the matrix."
   ]
  },
  {
   "cell_type": "code",
   "execution_count": 62,
   "metadata": {
    "id": "F7sJw1N1xiKC"
   },
   "outputs": [
    {
     "name": "stdout",
     "output_type": "stream",
     "text": [
      "[[ 3  4]\n",
      " [ 7  8]\n",
      " [11 12]]\n"
     ]
    }
   ],
   "source": [
    "import numpy as np\n",
    "\n",
    "arr = np.array([[1,2,3,4], [5,6,7,8], [9,10,11,12]])\n",
    "\n",
    "extracted_arr = arr[:, 2:4]\n",
    "\n",
    "print(extracted_arr)"
   ]
  },
  {
   "cell_type": "markdown",
   "metadata": {
    "id": "_8sVIp1q2MYw"
   },
   "source": [
    "##### NumPy Array Joins\n",
    "\n",
    "1. Given the following arrays:\n",
    "\n",
    "        arr1 = ([11, 7, 33])\\\n",
    "        arr2 = ([44, 5, 18])\n",
    "\n",
    "1.1 Recreate the arrays"
   ]
  },
  {
   "cell_type": "code",
   "execution_count": 63,
   "metadata": {
    "id": "-1H2IYDs2hMx"
   },
   "outputs": [
    {
     "name": "stdout",
     "output_type": "stream",
     "text": [
      "[11  7 33]\n",
      "[44  5 18]\n"
     ]
    }
   ],
   "source": [
    "import numpy as np\n",
    "\n",
    "arr_1 = np.array([11, 7, 33])\n",
    "arr_2 = np.array([44, 5, 18])\n",
    "\n",
    "\n",
    "print(arr_1)\n",
    "print(arr_2)"
   ]
  },
  {
   "cell_type": "markdown",
   "metadata": {
    "id": "jJ-OxwEZ2ysr"
   },
   "source": [
    "2. Write code to join arr1 and arr2 into a single 1D array."
   ]
  },
  {
   "cell_type": "code",
   "execution_count": 66,
   "metadata": {
    "id": "fyKL42Yv2ewQ"
   },
   "outputs": [
    {
     "name": "stdout",
     "output_type": "stream",
     "text": [
      "[11  7 33 44  5 18]\n"
     ]
    }
   ],
   "source": [
    "import numpy as np\n",
    "\n",
    "arr_1 = np.array([11, 7, 33])\n",
    "arr_2 = np.array([44, 5, 18])\n",
    "\n",
    "print(np.concatenate((arr_1, arr_2)))"
   ]
  },
  {
   "cell_type": "markdown",
   "metadata": {
    "id": "1qiYH-0v25Z2"
   },
   "source": [
    "3. Using arr1 and arr2 from question 1, write code to stack them vertically into a 2D array."
   ]
  },
  {
   "cell_type": "code",
   "execution_count": 73,
   "metadata": {
    "id": "MgR89wkS2_Nw"
   },
   "outputs": [
    {
     "name": "stdout",
     "output_type": "stream",
     "text": [
      "[[11  7 33]\n",
      " [44  5 18]]\n"
     ]
    }
   ],
   "source": [
    "import numpy as np\n",
    "\n",
    "arr_1 = np.array([11, 7, 33])\n",
    "arr_2 = np.array([44, 5, 18])\n",
    "\n",
    "print(np.stack((arr_1, arr_2), axis=0))"
   ]
  },
  {
   "cell_type": "markdown",
   "metadata": {
    "id": "mLanHC623JpJ"
   },
   "source": [
    "4. Given the 2D arrays:\n",
    "\n",
    "        arr1 = ([[1, 2],\n",
    "               [3, 4]])\n",
    "\n",
    "        arr2 = ([[5, 6],\n",
    "               [7, 8]])\n",
    "\n",
    "4.1 Recreate the arrays"
   ]
  },
  {
   "cell_type": "code",
   "execution_count": 74,
   "metadata": {
    "id": "FDGnOATJ3JE4"
   },
   "outputs": [
    {
     "name": "stdout",
     "output_type": "stream",
     "text": [
      "[[1 2]\n",
      " [3 4]]\n",
      "[[5 6]\n",
      " [7 8]]\n"
     ]
    }
   ],
   "source": [
    "import numpy as np\n",
    "\n",
    "arr_1 = np.array([[1, 2], [3,4]])\n",
    "arr_2 = np.array([[5, 6],[7,8]])\n",
    "\n",
    "print(arr_1)\n",
    "print(arr_2)"
   ]
  },
  {
   "cell_type": "markdown",
   "metadata": {
    "id": "RyJFIfpo3wiA"
   },
   "source": [
    "5. Write code to join them horizontally (column-wise)."
   ]
  },
  {
   "cell_type": "code",
   "execution_count": 79,
   "metadata": {
    "id": "0eHEY4N63zgT"
   },
   "outputs": [
    {
     "name": "stdout",
     "output_type": "stream",
     "text": [
      "[[1 2 5 6]\n",
      " [3 4 7 8]]\n"
     ]
    }
   ],
   "source": [
    "import numpy as np\n",
    "\n",
    "arr_1 = np.array([[1, 2], [3,4]])\n",
    "arr_2 = np.array([[5, 6],[7,8]])\n",
    "\n",
    "print(np.hstack((arr_1, arr_2)))"
   ]
  },
  {
   "cell_type": "markdown",
   "metadata": {
    "id": "encqt9P74ZSv"
   },
   "source": [
    "6. Using arr1 and arr2 from question 4, write code to join them vertically (row-wise).\n"
   ]
  },
  {
   "cell_type": "code",
   "execution_count": 80,
   "metadata": {
    "id": "o-UjS1Kn4rS7"
   },
   "outputs": [
    {
     "name": "stdout",
     "output_type": "stream",
     "text": [
      "[[1 2]\n",
      " [3 4]\n",
      " [5 6]\n",
      " [7 8]]\n"
     ]
    }
   ],
   "source": [
    "import numpy as np\n",
    "\n",
    "arr_1 = np.array([[1, 2], [3,4]])\n",
    "arr_2 = np.array([[5, 6],[7,8]])\n",
    "\n",
    "print(np.vstack((arr_1, arr_2)))"
   ]
  },
  {
   "cell_type": "markdown",
   "metadata": {
    "id": "2l2umcfvjlXq"
   },
   "source": [
    "## **Part 3**"
   ]
  },
  {
   "cell_type": "markdown",
   "metadata": {
    "id": "-rs5StZQlvYg"
   },
   "source": [
    "### Task 1: Array Creation"
   ]
  },
  {
   "cell_type": "markdown",
   "metadata": {
    "id": "PKyTiCLulztg"
   },
   "source": [
    "Create the following arrays:\n",
    "\n",
    "- A 1D array of integers from 10 to 28, with a step of 2.\n",
    "- A 2D array with shape (4, 4) containing random integers between 1 and 50.\n",
    "- A 3D array of shape (2, 3, 4) filled with ones.\n",
    "\n"
   ]
  },
  {
   "cell_type": "code",
   "execution_count": 91,
   "metadata": {
    "collapsed": true,
    "id": "GRWUhpV46cR4",
    "jupyter": {
     "outputs_hidden": true
    }
   },
   "outputs": [
    {
     "name": "stdout",
     "output_type": "stream",
     "text": [
      "[10 12 14 16 18 20 22 24 26 28]\n",
      "[[ 7 15 49  6]\n",
      " [ 9 18 16 25]\n",
      " [ 9  8  0 48]\n",
      " [26 12 15 12]]\n",
      "[[[1 1 1 1]\n",
      "  [1 1 1 1]\n",
      "  [1 1 1 1]]\n",
      "\n",
      " [[1 1 1 1]\n",
      "  [1 1 1 1]\n",
      "  [1 1 1 1]]]\n"
     ]
    }
   ],
   "source": [
    "import numpy as np\n",
    "\n",
    "arr1D = np.array([10,11,12,13,14,15,16,17,18,19,20,21,22,23,24,25,26,27,28])\n",
    "arr1D = arr1D[::2]\n",
    "\n",
    "arr2D = np.random.randint(50, size=(4,4))\n",
    "\n",
    "arr3D = np.full((2,3,4), 1)\n",
    "\n",
    "print(arr1D)\n",
    "print(arr2D)\n",
    "print(arr3D)\n"
   ]
  },
  {
   "cell_type": "markdown",
   "metadata": {
    "id": "yZPELZSx7ggA"
   },
   "source": [
    "### Task 2: Array Transformations\n",
    "Perform the following operations:\n",
    "- Reshape the 1D array to a 2D array with 2 rows.\n",
    "- Extract the last two rows of the 2D array (From Task 1)\n",
    "- Replace all even numbers in the 2D array with -1. (From Task 1)"
   ]
  },
  {
   "cell_type": "code",
   "execution_count": 168,
   "metadata": {
    "id": "5EJrW4nw7sIE"
   },
   "outputs": [
    {
     "name": "stdout",
     "output_type": "stream",
     "text": [
      "1D array to a 2D array\n",
      "[[10 12 14 16 18 20 22 24 26 28]\n",
      " [10 12 14 16 18 20 22 24 26 28]]\n",
      "\n",
      "2d reference\n",
      "[[ 1  2  8 21]\n",
      " [21 41 21 12]\n",
      " [49  6 31 20]\n",
      " [ 7 38 34 13]]\n",
      "\n",
      "last two rows\n",
      "[[49  6 31 20]\n",
      " [ 7 38 34 13]]\n",
      "\n",
      "replacing all even numbers with -1\n",
      "[[ 1 -1 -1 21]\n",
      " [21 41 21 -1]\n",
      " [49 -1 31 -1]\n",
      " [ 7 -1 -1 13]]\n"
     ]
    }
   ],
   "source": [
    "import numpy as np\n",
    "\n",
    "arr1 = np.array([10,11,12,13,14,15,16,17,18,19,20,21,22,23,24,25,26,27,28])\n",
    "arr1 = arr1[::2]\n",
    "\n",
    "\n",
    "arr2D = np.random.randint(50, size=(4,4))\n",
    "\n",
    "print('1D array to a 2D array')\n",
    "print(np.vstack((arr1, arr1)))\n",
    "\n",
    "print('')\n",
    "\n",
    "print('2d reference')\n",
    "print(arr2D)\n",
    "\n",
    "print('')\n",
    "\n",
    "print('last two rows')\n",
    "print(arr2D[2:4])\n",
    "\n",
    "print('')\n",
    "\n",
    "arr2D[arr2D % 2 == 0] = -1\n",
    "\n",
    "print('replacing all even numbers with -1')\n",
    "print(arr2D)\n",
    "\n",
    "\n"
   ]
  },
  {
   "cell_type": "markdown",
   "metadata": {
    "id": "ZkDoNNBjn7nP"
   },
   "source": [
    "### Task 3: Statistical Operations"
   ]
  },
  {
   "cell_type": "markdown",
   "metadata": {
    "id": "87sRNKp0n7nP"
   },
   "source": [
    "Using the 2D array from **Task 1**, compute the following:\n",
    "\n",
    "- The mean, median, and standard deviation of the array. (From Task 1)\n",
    "- The sum of all elements along each row. (From Task 1)\n",
    "- The maximum value and its index in the entire array. (From Task 1)\n"
   ]
  },
  {
   "cell_type": "code",
   "execution_count": 171,
   "metadata": {
    "id": "TEoMfRV68VlZ"
   },
   "outputs": [
    {
     "name": "stdout",
     "output_type": "stream",
     "text": [
      "2D reference\n",
      "[[ 1  3 15 14]\n",
      " [36 14 42 23]\n",
      " [26 27  5 32]\n",
      " [18  4 40 24]]\n",
      "\n",
      "Mean:  20.25\n",
      "Median:  20.5\n",
      "Standard Dev.:  12.808688457449499\n",
      "\n",
      "sum of all elements along each row:\n",
      "[ 33 115  90  86]\n",
      "\n",
      "largest value:  42\n",
      "(array([1]), array([2]))\n"
     ]
    }
   ],
   "source": [
    "import numpy as np\n",
    "\n",
    "arr2D = np.random.randint(50, size=(4,4))\n",
    "arr2DSum = np.array([np.sum(arr2D[0,:]), np.sum(arr2D[1,:]), np.sum(arr2D[2,:]), np.sum(arr2D[3,:])])\n",
    "\n",
    "print('2D reference')\n",
    "print(arr2D)\n",
    "print()\n",
    "print('Mean: ', np.mean(arr2D))\n",
    "print('Median: ', np.median(arr2D))\n",
    "print('Standard Dev.: ', np.std(arr2D))\n",
    "\n",
    "print('')\n",
    "\n",
    "print('sum of all elements along each row:')\n",
    "print(arr2DSum)\n",
    "\n",
    "print('')\n",
    "print('largest value: ', np.max(arr2D))\n",
    "print(np.where(arr2D == np.max(arr2D)))"
   ]
  },
  {
   "cell_type": "markdown",
   "metadata": {
    "id": "T_X0kP3I9eWi"
   },
   "source": [
    "###  Task 4: Advanced Analysis on Large Arrays"
   ]
  },
  {
   "cell_type": "markdown",
   "metadata": {
    "id": "B6uTdro89kE7"
   },
   "source": [
    "- Create a (10, 10) array containing random floating-point numbers between 0 and 1.\n",
    "- Find the minimum value along each column.\n",
    "- Find the indices of the top 5 largest values in the entire array."
   ]
  },
  {
   "cell_type": "code",
   "execution_count": 166,
   "metadata": {
    "id": "UwJw1MIn9ovK"
   },
   "outputs": [
    {
     "name": "stdout",
     "output_type": "stream",
     "text": [
      "[[9.48222422e-02 1.43626615e-01 3.82733033e-01 2.86957907e-04\n",
      "  8.78904339e-01 2.25639031e-01 5.12400334e-02 4.46525494e-01\n",
      "  6.02054641e-01 3.49310187e-01]\n",
      " [8.79175728e-01 8.16696143e-01 8.29386074e-01 9.57160408e-02\n",
      "  4.66894962e-01 1.01543282e-01 8.86254823e-01 1.97062536e-01\n",
      "  3.46966184e-01 6.13345057e-01]\n",
      " [8.78110350e-01 2.77928271e-02 8.35360357e-01 9.47504286e-01\n",
      "  9.75635755e-01 9.05917824e-01 1.11974037e-01 2.86334497e-01\n",
      "  1.56374920e-01 2.66060891e-01]\n",
      " [8.34445406e-01 7.32214328e-01 9.39188940e-01 9.15843165e-01\n",
      "  9.42327802e-01 7.56927825e-01 8.71887969e-01 4.97885893e-01\n",
      "  1.84230389e-01 7.71047413e-01]\n",
      " [6.16307684e-01 4.50481585e-01 9.94620073e-02 6.82781931e-01\n",
      "  7.14183047e-01 6.79850383e-01 5.98191921e-01 4.78913760e-01\n",
      "  8.23259597e-01 6.90235506e-01]\n",
      " [9.38274738e-01 2.54422434e-02 4.20715809e-01 3.19189660e-01\n",
      "  2.56609660e-01 1.26938992e-01 5.25497468e-01 1.06980256e-01\n",
      "  3.43663502e-01 2.58047755e-01]\n",
      " [2.83536835e-01 9.77868613e-01 3.87674782e-01 5.41688481e-02\n",
      "  7.13679751e-02 7.73343515e-01 7.55823975e-02 1.30612102e-01\n",
      "  4.87734214e-01 6.62012275e-01]\n",
      " [7.65305626e-01 1.34808079e-01 7.56350549e-01 3.60753404e-02\n",
      "  5.94778109e-01 9.04851348e-01 8.02301351e-01 1.04735205e-01\n",
      "  5.39732817e-01 5.56725514e-01]\n",
      " [8.95756203e-01 5.30821472e-01 3.04529765e-01 8.36870886e-01\n",
      "  9.08230880e-01 8.54475126e-01 2.67906191e-01 3.77238109e-02\n",
      "  7.64991076e-01 2.54636137e-01]\n",
      " [2.42456504e-01 3.24493423e-01 1.41974115e-01 2.50426068e-01\n",
      "  1.24823904e-01 2.92915074e-01 7.44761509e-01 2.72567062e-01\n",
      "  9.02064386e-01 8.64958832e-01]] \n",
      "\n",
      "0.00028695790682187194\n",
      "0.09571604078655738\n",
      "0.027792827140743825\n",
      "0.18423038928164437\n",
      "0.09946200731017574\n",
      "0.025442243375854767\n",
      "0.054168848063232855\n",
      "0.03607534036066973\n",
      "0.037723810865208485\n",
      "0.12482390446492686\n",
      "\n",
      " Top 5 largest Values:\n",
      "1 :  0.9778686128840359   (array([6]), array([1]))\n",
      "2 :  0.9756357548855947   (array([2]), array([4]))\n",
      "3 :  0.9475042857278363   (array([2]), array([3]))\n",
      "4 :  0.942327802178824   (array([3]), array([4]))\n",
      "5 :  0.9391889396727896   (array([3]), array([2]))\n"
     ]
    }
   ],
   "source": [
    "import numpy as np \n",
    "\n",
    "arr = np.random.rand(10,10)\n",
    "\n",
    "print(arr,'\\n')\n",
    "\n",
    "for x in range(10):\n",
    "    print(np.min(arr[x,:]))\n",
    "\n",
    "arrnew = np.sort(np.concat(arr))\n",
    "\n",
    "print('\\n Top 5 largest Values:')\n",
    "\n",
    "for x in range(5):\n",
    "    print(x+1, ': ', arrnew[-(x+1)], ' ', np.where(arr == arrnew[-(x+1)]))\n",
    "    # print(np.where(arr == arrnew[-(x+1)]))\n",
    "\n",
    "\n"
   ]
  }
 ],
 "metadata": {
  "colab": {
   "collapsed_sections": [
    "JDa9MTb2wXPi",
    "ABs-32sKwOcg"
   ],
   "provenance": []
  },
  "kernelspec": {
   "display_name": "Python 3 (ipykernel)",
   "language": "python",
   "name": "python3"
  },
  "language_info": {
   "codemirror_mode": {
    "name": "ipython",
    "version": 3
   },
   "file_extension": ".py",
   "mimetype": "text/x-python",
   "name": "python",
   "nbconvert_exporter": "python",
   "pygments_lexer": "ipython3",
   "version": "3.12.6"
  }
 },
 "nbformat": 4,
 "nbformat_minor": 4
}
